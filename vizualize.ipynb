{
 "cells": [
  {
   "cell_type": "code",
   "execution_count": 114,
   "metadata": {},
   "outputs": [],
   "source": [
    "import os\n",
    "import numpy as np\n",
    "import pandas as pd\n",
    "import seaborn as sns"
   ]
  },
  {
   "cell_type": "code",
   "execution_count": 115,
   "metadata": {},
   "outputs": [
    {
     "name": "stdout",
     "output_type": "stream",
     "text": [
      "c:\\Users\\Duc Thien An Nguyen\\Desktop\\my_collections\\Python\\quadrupbot_env\n",
      "c:\\Users\\Duc Thien An Nguyen\\Desktop\\my_collections\\Python\n",
      "c:\\Users\\Duc Thien An Nguyen\\Desktop\\my_collections\\Python\n"
     ]
    }
   ],
   "source": [
    "print(os.getcwd())\n",
    "os.chdir('..')\n",
    "print(os.getcwd())\n",
    "data2 = pd.read_csv('reward_data_1.csv')\n",
    "data1 = pd.read_csv('reward_data_1.csv')\n",
    "data  = pd.read_csv('reward_data.csv')\n",
    "ratio_data2 = pd.read_csv('reward_noise_2.csv')\n",
    "ratio_data1 = pd.read_csv('reward_noise_1.csv')\n",
    "ratio_data  = pd.read_csv('reward_noise.csv')\n",
    "print(os.getcwd())\n",
    "os.chdir('quadrupbot_env')"
   ]
  },
  {
   "cell_type": "code",
   "execution_count": 116,
   "metadata": {},
   "outputs": [
    {
     "name": "stderr",
     "output_type": "stream",
     "text": [
      "C:\\Users\\Duc Thien An Nguyen\\AppData\\Local\\Temp\\ipykernel_11888\\1563398112.py:1: FutureWarning: The frame.append method is deprecated and will be removed from pandas in a future version. Use pandas.concat instead.\n",
      "  data = data.append(data1)\n",
      "C:\\Users\\Duc Thien An Nguyen\\AppData\\Local\\Temp\\ipykernel_11888\\1563398112.py:2: FutureWarning: The frame.append method is deprecated and will be removed from pandas in a future version. Use pandas.concat instead.\n",
      "  data = data.append(data2)\n",
      "C:\\Users\\Duc Thien An Nguyen\\AppData\\Local\\Temp\\ipykernel_11888\\1563398112.py:3: FutureWarning: The frame.append method is deprecated and will be removed from pandas in a future version. Use pandas.concat instead.\n",
      "  ratio_data = ratio_data.append(ratio_data1)\n",
      "C:\\Users\\Duc Thien An Nguyen\\AppData\\Local\\Temp\\ipykernel_11888\\1563398112.py:4: FutureWarning: The frame.append method is deprecated and will be removed from pandas in a future version. Use pandas.concat instead.\n",
      "  ratio_data = ratio_data.append(ratio_data2)\n"
     ]
    }
   ],
   "source": [
    "data = data.append(data1)\n",
    "data = data.append(data2)\n",
    "ratio_data = ratio_data.append(ratio_data1)\n",
    "ratio_data = ratio_data.append(ratio_data2)"
   ]
  },
  {
   "cell_type": "markdown",
   "metadata": {},
   "source": [
    "# Reward compare"
   ]
  },
  {
   "cell_type": "code",
   "execution_count": 117,
   "metadata": {},
   "outputs": [
    {
     "data": {
      "text/html": [
       "<div>\n",
       "<style scoped>\n",
       "    .dataframe tbody tr th:only-of-type {\n",
       "        vertical-align: middle;\n",
       "    }\n",
       "\n",
       "    .dataframe tbody tr th {\n",
       "        vertical-align: top;\n",
       "    }\n",
       "\n",
       "    .dataframe thead th {\n",
       "        text-align: right;\n",
       "    }\n",
       "</style>\n",
       "<table border=\"1\" class=\"dataframe\">\n",
       "  <thead>\n",
       "    <tr style=\"text-align: right;\">\n",
       "      <th></th>\n",
       "      <th>Unnamed: 0</th>\n",
       "      <th>Reward</th>\n",
       "      <th>Episode length</th>\n",
       "      <th>Terrain type</th>\n",
       "      <th>Roughness</th>\n",
       "    </tr>\n",
       "  </thead>\n",
       "  <tbody>\n",
       "    <tr>\n",
       "      <th>171</th>\n",
       "      <td>1</td>\n",
       "      <td>-1.000000e+10</td>\n",
       "      <td>244</td>\n",
       "      <td>Hills</td>\n",
       "      <td>0.05</td>\n",
       "    </tr>\n",
       "    <tr>\n",
       "      <th>178</th>\n",
       "      <td>8</td>\n",
       "      <td>-1.000000e+10</td>\n",
       "      <td>149</td>\n",
       "      <td>Hills</td>\n",
       "      <td>0.05</td>\n",
       "    </tr>\n",
       "    <tr>\n",
       "      <th>198</th>\n",
       "      <td>8</td>\n",
       "      <td>-9.999997e+09</td>\n",
       "      <td>1377</td>\n",
       "      <td>Combine</td>\n",
       "      <td>0.05</td>\n",
       "    </tr>\n",
       "    <tr>\n",
       "      <th>178</th>\n",
       "      <td>8</td>\n",
       "      <td>-1.000000e+10</td>\n",
       "      <td>149</td>\n",
       "      <td>Hills</td>\n",
       "      <td>0.05</td>\n",
       "    </tr>\n",
       "    <tr>\n",
       "      <th>198</th>\n",
       "      <td>8</td>\n",
       "      <td>-9.999997e+09</td>\n",
       "      <td>1377</td>\n",
       "      <td>Combine</td>\n",
       "      <td>0.05</td>\n",
       "    </tr>\n",
       "  </tbody>\n",
       "</table>\n",
       "</div>"
      ],
      "text/plain": [
       "     Unnamed: 0        Reward  Episode length Terrain type  Roughness\n",
       "171           1 -1.000000e+10             244        Hills       0.05\n",
       "178           8 -1.000000e+10             149        Hills       0.05\n",
       "198           8 -9.999997e+09            1377      Combine       0.05\n",
       "178           8 -1.000000e+10             149        Hills       0.05\n",
       "198           8 -9.999997e+09            1377      Combine       0.05"
      ]
     },
     "execution_count": 117,
     "metadata": {},
     "output_type": "execute_result"
    }
   ],
   "source": [
    "data.loc[(data['Reward']<-1e5)|(data['Episode length']==2000)]"
   ]
  },
  {
   "cell_type": "code",
   "execution_count": 118,
   "metadata": {},
   "outputs": [
    {
     "data": {
      "text/html": [
       "<div>\n",
       "<style scoped>\n",
       "    .dataframe tbody tr th:only-of-type {\n",
       "        vertical-align: middle;\n",
       "    }\n",
       "\n",
       "    .dataframe tbody tr th {\n",
       "        vertical-align: top;\n",
       "    }\n",
       "\n",
       "    .dataframe thead th {\n",
       "        text-align: right;\n",
       "    }\n",
       "</style>\n",
       "<table border=\"1\" class=\"dataframe\">\n",
       "  <thead>\n",
       "    <tr style=\"text-align: right;\">\n",
       "      <th></th>\n",
       "      <th>Unnamed: 0</th>\n",
       "      <th>Reward</th>\n",
       "      <th>Episode length</th>\n",
       "      <th>Roughness</th>\n",
       "    </tr>\n",
       "  </thead>\n",
       "  <tbody>\n",
       "    <tr>\n",
       "      <th>count</th>\n",
       "      <td>595.000000</td>\n",
       "      <td>595.000000</td>\n",
       "      <td>595.000000</td>\n",
       "      <td>595.000000</td>\n",
       "    </tr>\n",
       "    <tr>\n",
       "      <th>mean</th>\n",
       "      <td>4.482353</td>\n",
       "      <td>2698.870236</td>\n",
       "      <td>714.836975</td>\n",
       "      <td>0.029832</td>\n",
       "    </tr>\n",
       "    <tr>\n",
       "      <th>std</th>\n",
       "      <td>2.868781</td>\n",
       "      <td>839.273320</td>\n",
       "      <td>229.105680</td>\n",
       "      <td>0.014093</td>\n",
       "    </tr>\n",
       "    <tr>\n",
       "      <th>min</th>\n",
       "      <td>0.000000</td>\n",
       "      <td>1611.047889</td>\n",
       "      <td>470.000000</td>\n",
       "      <td>0.010000</td>\n",
       "    </tr>\n",
       "    <tr>\n",
       "      <th>25%</th>\n",
       "      <td>2.000000</td>\n",
       "      <td>2172.491058</td>\n",
       "      <td>569.000000</td>\n",
       "      <td>0.020000</td>\n",
       "    </tr>\n",
       "    <tr>\n",
       "      <th>50%</th>\n",
       "      <td>4.000000</td>\n",
       "      <td>2544.821354</td>\n",
       "      <td>659.000000</td>\n",
       "      <td>0.030000</td>\n",
       "    </tr>\n",
       "    <tr>\n",
       "      <th>75%</th>\n",
       "      <td>7.000000</td>\n",
       "      <td>2908.986291</td>\n",
       "      <td>774.000000</td>\n",
       "      <td>0.040000</td>\n",
       "    </tr>\n",
       "    <tr>\n",
       "      <th>max</th>\n",
       "      <td>9.000000</td>\n",
       "      <td>7664.986193</td>\n",
       "      <td>1895.000000</td>\n",
       "      <td>0.050000</td>\n",
       "    </tr>\n",
       "  </tbody>\n",
       "</table>\n",
       "</div>"
      ],
      "text/plain": [
       "       Unnamed: 0       Reward  Episode length   Roughness\n",
       "count  595.000000   595.000000      595.000000  595.000000\n",
       "mean     4.482353  2698.870236      714.836975    0.029832\n",
       "std      2.868781   839.273320      229.105680    0.014093\n",
       "min      0.000000  1611.047889      470.000000    0.010000\n",
       "25%      2.000000  2172.491058      569.000000    0.020000\n",
       "50%      4.000000  2544.821354      659.000000    0.030000\n",
       "75%      7.000000  2908.986291      774.000000    0.040000\n",
       "max      9.000000  7664.986193     1895.000000    0.050000"
      ]
     },
     "execution_count": 118,
     "metadata": {},
     "output_type": "execute_result"
    }
   ],
   "source": [
    "clean_data = data.loc[(data['Reward']>0)&(data['Episode length']!=2000)]\n",
    "clean_data.describe()"
   ]
  },
  {
   "cell_type": "code",
   "execution_count": 119,
   "metadata": {},
   "outputs": [
    {
     "name": "stderr",
     "output_type": "stream",
     "text": [
      "C:\\Users\\Duc Thien An Nguyen\\AppData\\Local\\Temp\\ipykernel_11888\\32708963.py:1: SettingWithCopyWarning: \n",
      "A value is trying to be set on a copy of a slice from a DataFrame.\n",
      "Try using .loc[row_indexer,col_indexer] = value instead\n",
      "\n",
      "See the caveats in the documentation: https://pandas.pydata.org/pandas-docs/stable/user_guide/indexing.html#returning-a-view-versus-a-copy\n",
      "  clean_data['Time (second)'] = clean_data['Episode length']*(1./24.)\n",
      "C:\\Users\\Duc Thien An Nguyen\\AppData\\Local\\Temp\\ipykernel_11888\\32708963.py:2: SettingWithCopyWarning: \n",
      "A value is trying to be set on a copy of a slice from a DataFrame.\n",
      "Try using .loc[row_indexer,col_indexer] = value instead\n",
      "\n",
      "See the caveats in the documentation: https://pandas.pydata.org/pandas-docs/stable/user_guide/indexing.html#returning-a-view-versus-a-copy\n",
      "  clean_data['Roughness (m)'] = clean_data['Roughness']\n"
     ]
    }
   ],
   "source": [
    "clean_data['Time (second)'] = clean_data['Episode length']*(1./24.)\n",
    "clean_data['Roughness (m)'] = clean_data['Roughness']"
   ]
  },
  {
   "cell_type": "code",
   "execution_count": 120,
   "metadata": {},
   "outputs": [
    {
     "data": {
      "image/png": "[encoded data removed]",
      "text/plain": [
       "<Figure size 640x480 with 1 Axes>"
      ]
     },
     "metadata": {},
     "output_type": "display_data"
    }
   ],
   "source": [
    "sns.set_theme(style=\"whitegrid\", palette=\"bright\")\n",
    "plot = sns.boxplot(x=\"Roughness (m)\", y=\"Reward\",hue=\"Terrain type\",data=clean_data)\n",
    "sns.despine(offset=10)"
   ]
  },
  {
   "cell_type": "code",
   "execution_count": 121,
   "metadata": {},
   "outputs": [
    {
     "data": {
      "image/png": "[encoded data removed]",
      "text/plain": [
       "<Figure size 640x480 with 1 Axes>"
      ]
     },
     "metadata": {},
     "output_type": "display_data"
    }
   ],
   "source": [
    "plot = sns.boxplot(x=\"Roughness (m)\", y=\"Time (second)\",hue=\"Terrain type\",data=clean_data)\n",
    "sns.despine(offset=10)"
   ]
  },
  {
   "cell_type": "markdown",
   "metadata": {},
   "source": [
    "# Reward ratio"
   ]
  },
  {
   "cell_type": "code",
   "execution_count": 140,
   "metadata": {},
   "outputs": [
    {
     "data": {
      "text/plain": [
       "Combine    15\n",
       "Hills       7\n",
       "Flat        6\n",
       "Stairs      4\n",
       "Name: Terrain type, dtype: int64"
      ]
     },
     "execution_count": 140,
     "metadata": {},
     "output_type": "execute_result"
    }
   ],
   "source": [
    "fail = ratio_data.loc[(ratio_data['Reward']<-1e5)|(ratio_data['Episode length']==2000)]\n",
    "# for i in range(fail.shape[0]):\n",
    "#     print(dict(fail.iloc[i,:]))\n",
    "fail.loc[fail['Noise']==0.25]['Terrain type'].value_counts()"
   ]
  },
  {
   "cell_type": "code",
   "execution_count": 123,
   "metadata": {},
   "outputs": [
    {
     "data": {
      "text/plain": [
       "0.00    118\n",
       "0.10    116\n",
       "0.05    114\n",
       "0.15    113\n",
       "0.20    102\n",
       "0.25     88\n",
       "Name: Noise, dtype: int64"
      ]
     },
     "execution_count": 123,
     "metadata": {},
     "output_type": "execute_result"
    }
   ],
   "source": [
    "success  = ratio_data.loc[(ratio_data['Reward']>0)&(ratio_data['Episode length']!=2000)]\n",
    "success['Noise'].value_counts()"
   ]
  }
 ],
 "metadata": {
  "kernelspec": {
   "display_name": "myvenv",
   "language": "python",
   "name": "python3"
  },
  "language_info": {
   "codemirror_mode": {
    "name": "ipython",
    "version": 3
   },
   "file_extension": ".py",
   "mimetype": "text/x-python",
   "name": "python",
   "nbconvert_exporter": "python",
   "pygments_lexer": "ipython3",
   "version": "3.9.7"
  }
 },
 "nbformat": 4,
 "nbformat_minor": 2
}
