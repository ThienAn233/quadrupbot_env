{
 "cells": [
  {
   "cell_type": "code",
   "execution_count": 1,
   "metadata": {},
   "outputs": [],
   "source": [
    "import pybullet as p\n",
    "import gymnasium as gym\n",
    "import numpy as np\n",
    "import time as t\n",
    "from stable_baselines3 import SAC\n",
    "from stable_baselines3.common.vec_env import DummyVecEnv\n",
    "from stable_baselines3.common.monitor import Monitor"
   ]
  },
  {
   "cell_type": "code",
   "execution_count": 15,
   "metadata": {},
   "outputs": [
    {
     "name": "stdout",
     "output_type": "stream",
     "text": [
      "The tensorboard extension is already loaded. To reload it, use:\n",
      "  %reload_ext tensorboard\n"
     ]
    },
    {
     "data": {
      "text/plain": [
       "ERROR: Failed to launch TensorBoard (exited with 2).\n",
       "Contents of stderr:\n",
       "TensorFlow installation not found - running with reduced feature set.\n",
       "usage: tensorboard [-h] [--helpfull] [--logdir PATH] [--logdir_spec PATH_SPEC]\n",
       "                   [--host ADDR] [--bind_all] [--port PORT]\n",
       "                   [--reuse_port BOOL] [--load_fast {false,auto,true}]\n",
       "                   [--extra_data_server_flags EXTRA_DATA_SERVER_FLAGS]\n",
       "                   [--grpc_creds_type {local,ssl,ssl_dev}]\n",
       "                   [--grpc_data_provider PORT] [--purge_orphaned_data BOOL]\n",
       "                   [--db URI] [--db_import] [--inspect] [--version_tb]\n",
       "                   [--tag TAG] [--event_file PATH] [--path_prefix PATH]\n",
       "                   [--window_title TEXT] [--max_reload_threads COUNT]\n",
       "                   [--reload_interval SECONDS] [--reload_task TYPE]\n",
       "                   [--reload_multifile BOOL]\n",
       "                   [--reload_multifile_inactive_secs SECONDS]\n",
       "                   [--generic_data TYPE]\n",
       "                   [--samples_per_plugin SAMPLES_PER_PLUGIN]\n",
       "                   [--detect_file_replacement BOOL]\n",
       "                   {serve,dev} ...\n",
       "tensorboard: error: argument {serve,dev}: invalid choice: 'Thien' (choose from 'serve', 'dev')"
      ]
     },
     "metadata": {},
     "output_type": "display_data"
    }
   ],
   "source": [
    "tensor_path = 'quadrupbot_env//runs//SAC'\n",
    "start_time  = t.strftime('%Y-%m-%d-%H-%M-%S', t.localtime())\n",
    "model_dir   = 'quadrupbot_env//models//SAC//SAC_v3_multienv_'+start_time\n",
    "log_name    = 'SAC_v3_multienv_'+start_time\n",
    "%load_ext tensorboard\n",
    "%tensorboard --logdir quadrupbot_env//runs//SAC"
   ]
  },
  {
   "cell_type": "code",
   "execution_count": null,
   "metadata": {},
   "outputs": [],
   "source": [
    "gym.register(\n",
    "    id=\"multi-v3\",\n",
    "    entry_point=\"quad_multi_direct_v3_gym:Quadrup_env\",\n",
    "    max_episode_steps=500)\n",
    "env = DummyVecEnv([lambda: Monitor(gym.make(\"multi-v3\",terrain_type=3,terrainHeight = [0. ,0.06], seed = np.random.randint(1,100))) for i in range(8)])\n",
    "model = SAC(policy=\"MlpPolicy\",batch_size=2048,learning_rate= 1e-4,env=env,tau=0.2,use_sde=True,verbose=1,tensorboard_log=tensor_path)\n",
    "# model = SAC.load('//content//drive//MyDrive//Colab_Notebooks//RL//1st_RL_prjct//models//SAC//SAC_v3_multienv_2024-02-18-12-27-15',env=env)\n",
    "model.learn(500000,tb_log_name=log_name)\n",
    "model.save(model_dir)\n",
    "print(\"saved !\")"
   ]
  }
 ],
 "metadata": {
  "kernelspec": {
   "display_name": "myvenv",
   "language": "python",
   "name": "python3"
  },
  "language_info": {
   "codemirror_mode": {
    "name": "ipython",
    "version": 3
   },
   "file_extension": ".py",
   "mimetype": "text/x-python",
   "name": "python",
   "nbconvert_exporter": "python",
   "pygments_lexer": "ipython3",
   "version": "3.9.7"
  }
 },
 "nbformat": 4,
 "nbformat_minor": 2
}
